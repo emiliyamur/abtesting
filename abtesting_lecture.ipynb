{
 "cells": [
  {
   "cell_type": "code",
   "execution_count": 1,
   "metadata": {
    "ExecuteTime": {
     "end_time": "2020-04-13T16:08:52.924739Z",
     "start_time": "2020-04-13T16:08:51.528579Z"
    },
    "hide_input": false,
    "slideshow": {
     "slide_type": "skip"
    }
   },
   "outputs": [],
   "source": [
    "import numpy as np\n",
    "import pandas as pd\n",
    "import seaborn as sns\n",
    "import matplotlib.pyplot as plt\n",
    "from scipy import stats\n",
    "np.random.seed(293423)"
   ]
  },
  {
   "cell_type": "markdown",
   "metadata": {
    "ExecuteTime": {
     "end_time": "2020-04-12T08:34:59.152912Z",
     "start_time": "2020-04-12T08:34:59.149256Z"
    },
    "slideshow": {
     "slide_type": "slide"
    }
   },
   "source": [
    "<font size=\"8\" >Анализ АБ-тестов: теория на примере конверсии</font>"
   ]
  },
  {
   "cell_type": "markdown",
   "metadata": {
    "heading_collapsed": true,
    "slideshow": {
     "slide_type": "slide"
    }
   },
   "source": [
    "# Кто я?"
   ]
  },
  {
   "cell_type": "markdown",
   "metadata": {
    "ExecuteTime": {
     "end_time": "2020-04-11T16:35:40.802573Z",
     "start_time": "2020-04-11T16:35:40.799159Z"
    },
    "hidden": true,
    "slideshow": {
     "slide_type": "slide"
    }
   },
   "source": [
    "<img src=\"whoami2.png\" width=\"1500\" align=\"center\">"
   ]
  },
  {
   "cell_type": "markdown",
   "metadata": {
    "slideshow": {
     "slide_type": "slide"
    }
   },
   "source": [
    "# О чем поговорим?"
   ]
  },
  {
   "cell_type": "markdown",
   "metadata": {
    "ExecuteTime": {
     "end_time": "2020-04-11T16:37:41.810890Z",
     "start_time": "2020-04-11T16:37:41.807409Z"
    },
    "slideshow": {
     "slide_type": "fragment"
    }
   },
   "source": [
    "1. Что такое АБ тест?\n",
    "    - Основные понятия\n",
    "    - Что такое АБ тест?\n",
    "    - Выбор метрик\n",
    "1. Теория\n",
    "    - Математическая постановка задачи\n",
    "    - Конверсия и ее распределение\n",
    "    - Ошибки первого и второго рода\n",
    "    - Уровень значимости и мощность\n",
    "    - p-value и проверка гипотез на примере Z-критерия\n",
    "    - Необходимый размер выборки\n",
    "1. Полезные инструменты\n",
    "1. Резюме"
   ]
  },
  {
   "cell_type": "markdown",
   "metadata": {
    "slideshow": {
     "slide_type": "slide"
    }
   },
   "source": [
    "# Что такое АБ тесты"
   ]
  },
  {
   "cell_type": "markdown",
   "metadata": {
    "slideshow": {
     "slide_type": "slide"
    }
   },
   "source": [
    "## Основные понятия"
   ]
  },
  {
   "cell_type": "markdown",
   "metadata": {
    "slideshow": {
     "slide_type": "slide"
    }
   },
   "source": [
    "* **Генеральная совокупность** - совокупность всех объектов, относительно которых предполагается делать выводы при изучении конкретной задачи\n",
    "* **Выборочная совокупность (Выборка)** - представительная часть генеральной совокупности (набор наблюдений)\n",
    "* **Наблюдение** - элемент выбороки. Например: клиент совершающий покупку билета на автобус"
   ]
  },
  {
   "cell_type": "markdown",
   "metadata": {
    "slideshow": {
     "slide_type": "slide"
    }
   },
   "source": [
    "## Что такое АБ тесты"
   ]
  },
  {
   "cell_type": "markdown",
   "metadata": {
    "slideshow": {
     "slide_type": "slide"
    }
   },
   "source": [
    "**АБ-тест** - это инструмент для проверки бизнес гипотез, проведения маркетинговых исследований. Тестируются две или более групп, на которые производится разное воздействие. Цель тестирования - выявить наиболее эффективное из них.\n",
    "\n",
    "АБ тесты бывают:\n",
    "* Оффлайн\n",
    "* <font size=\"3\" color=\"green\">Онлайн</font> \n",
    "$\\checkmark$"
   ]
  },
  {
   "cell_type": "markdown",
   "metadata": {
    "slideshow": {
     "slide_type": "slide"
    }
   },
   "source": [
    "<font size=\"8\" >Какой вариант лучше</font>\n",
    "\n",
    "<img src=\"test_var.png\" width=\"600\" height=\"255\" align=\"left\"> <img src=\"cntrl_var.png\" width=\"600\" height=\"255\" align=\"right\">"
   ]
  },
  {
   "cell_type": "markdown",
   "metadata": {
    "slideshow": {
     "slide_type": "slide"
    }
   },
   "source": [
    "<img src=\"abtest1.png\" width=\"1500\" align=\"center\">"
   ]
  },
  {
   "cell_type": "markdown",
   "metadata": {
    "ExecuteTime": {
     "end_time": "2020-04-09T18:24:36.739994Z",
     "start_time": "2020-04-09T18:24:36.735740Z"
    },
    "slideshow": {
     "slide_type": "slide"
    }
   },
   "source": [
    "## Выбор метрик\n",
    "\n",
    "1. Выбрать одну метрику или приоритизировать\n",
    "2. Метрика зависит только от пользователей, на которых тестируют гипотезу\n",
    "3. Анализ зависит от типа метрик"
   ]
  },
  {
   "cell_type": "markdown",
   "metadata": {
    "slideshow": {
     "slide_type": "slide"
    }
   },
   "source": [
    "<img src=\"ratio.png\">"
   ]
  },
  {
   "cell_type": "markdown",
   "metadata": {
    "ExecuteTime": {
     "end_time": "2020-04-09T18:26:24.335302Z",
     "start_time": "2020-04-09T18:26:24.331130Z"
    },
    "slideshow": {
     "slide_type": "slide"
    }
   },
   "source": [
    "<img src=\"user.png\">"
   ]
  },
  {
   "cell_type": "markdown",
   "metadata": {
    "slideshow": {
     "slide_type": "slide"
    }
   },
   "source": [
    "В этой лекции мы будем говорить про поюзерные метрики, потому что они выборки для поюзерных метрик состоят из независимых одинаково распредеденных случайных величин (одно наблюдение - один пользователь, пользователи независимы между собой), что как раз необходимо для критерия , который мы будем применять"
   ]
  },
  {
   "cell_type": "markdown",
   "metadata": {
    "slideshow": {
     "slide_type": "slide"
    }
   },
   "source": [
    "# Теория"
   ]
  },
  {
   "cell_type": "markdown",
   "metadata": {
    "slideshow": {
     "slide_type": "slide"
    }
   },
   "source": [
    "## Математическая постановка задачи"
   ]
  },
  {
   "cell_type": "markdown",
   "metadata": {
    "slideshow": {
     "slide_type": "slide"
    }
   },
   "source": [
    "Будем проверять, что математические ожидания распределений наших метрик совпадают:\n",
    "\n",
    "* $H_0 : E(X_c) = E(X_t) - \\ \\ нулевая \\ \\  гипотеза$\n",
    "* $H_1 : E(X_c) \\neq E(X_t) - \\ \\ альтернативная \\ \\  гипотеза$ "
   ]
  },
  {
   "cell_type": "markdown",
   "metadata": {
    "slideshow": {
     "slide_type": "slide"
    }
   },
   "source": [
    "## Конверсия, распределение конверсии"
   ]
  },
  {
   "cell_type": "markdown",
   "metadata": {
    "slideshow": {
     "slide_type": "slide"
    }
   },
   "source": [
    "### Что такое конверсия?\n",
    "Конверсия, это такая поюзерная метрика, которая определяет долю юзеров, совершивших целевое действие.\n"
   ]
  },
  {
   "cell_type": "markdown",
   "metadata": {
    "ExecuteTime": {
     "end_time": "2020-04-11T16:44:07.646112Z",
     "start_time": "2020-04-11T16:44:07.642382Z"
    },
    "slideshow": {
     "slide_type": "fragment"
    }
   },
   "source": [
    "**Например:**\n",
    "* Сделали покупку авиа билета\n",
    "* Кликнули в кнопку подписки на новости\n",
    "* Зарегистрировались на сайте"
   ]
  },
  {
   "cell_type": "markdown",
   "metadata": {
    "slideshow": {
     "slide_type": "slide"
    }
   },
   "source": [
    "Рассмотрим на примере покупки авиабилета.\n",
    "\n",
    "$$X = (0,1,0,0,1,0,1, \\ldots, 1,0,1,0,0,0,1)$$\n",
    "\n",
    "\n",
    "С математической точки зрения такая выборка $-$ это n независимых генераций случайной величины, которая распределена по закону Бернулли с вероятностью успеха $p$. \n",
    "\n",
    "Напомним, что для случайной величины $Y \\sim Ber(p)$: $\\mathbb{E}= p, \\mathbb{D} = p(1-p)$\n"
   ]
  },
  {
   "cell_type": "markdown",
   "metadata": {
    "ExecuteTime": {
     "end_time": "2020-04-08T17:04:52.138947Z",
     "start_time": "2020-04-08T17:04:52.134302Z"
    },
    "slideshow": {
     "slide_type": "slide"
    }
   },
   "source": [
    "Для математического ожидания хорошей оценкой является выборочное среднее. Обозначим выборочное среднее для нашего примера за $\\hat{p}$\n",
    "$$ \\overline{X}  = \\frac{\\sum(X_i)}{n} = \\hat{p} $$\n",
    "\n",
    "Тогда для группы контроля выборочное среднее будет $\\hat{p}_{c}$, а для группы теста $\\hat{p}_{t}$"
   ]
  },
  {
   "cell_type": "markdown",
   "metadata": {
    "slideshow": {
     "slide_type": "slide"
    }
   },
   "source": [
    "### ЦПТ и распределение выборочного среднего"
   ]
  },
  {
   "cell_type": "markdown",
   "metadata": {
    "slideshow": {
     "slide_type": "slide"
    }
   },
   "source": [
    "ЦПТ нам дает очень важное свойство выборочного среднего:\n",
    "\n",
    "Пусть у нас есть выборка из n независимых, одинаково распределенных случайных величин с математическим ожиданием $\\mu$ и дисперссией $\\sigma^2$:\n",
    "\n",
    "$$X = (X_1, \\ldots, X_n)$$ \n",
    "\n",
    "\n",
    "$$\\overline{X}_{n} \\rightarrow N(\\mu, \\frac{\\sigma^2}{n}) \\ \\ при \\ \\  n \\rightarrow \\infty$$\n",
    "\n",
    "Так как мы имеем выборку распределенную по закону Бернули с вероятностью успеха $p$, то: \n",
    "\n",
    "$$\\overline{X}_{n} \\rightarrow N(p, \\frac{p(p-1)}{n}) \\ \\ при \\ \\  n \\rightarrow \\infty$$"
   ]
  },
  {
   "cell_type": "code",
   "execution_count": 2,
   "metadata": {
    "ExecuteTime": {
     "end_time": "2020-04-13T16:08:53.993387Z",
     "start_time": "2020-04-13T16:08:52.926457Z"
    },
    "hide_input": false,
    "slideshow": {
     "slide_type": "slide"
    }
   },
   "outputs": [
    {
     "data": {
      "text/plain": [
       "Text(0.5, 1.0, 'CDF')"
      ]
     },
     "execution_count": 2,
     "metadata": {},
     "output_type": "execute_result"
    },
    {
     "data": {
      "image/png": "[encoded data removed]",
      "text/plain": [
       "<Figure size 1152x288 with 2 Axes>"
      ]
     },
     "metadata": {
      "needs_background": "light"
     },
     "output_type": "display_data"
    }
   ],
   "source": [
    "p = 0.1\n",
    "rv_bernoulli = stats.bernoulli(p = p)\n",
    "sample_means = []\n",
    "n=1000\n",
    "m = 10000\n",
    "for i in range(m):\n",
    "    sample_means.append((np.sum(rv_bernoulli.rvs(n)/n)))\n",
    "\n",
    "fig, ax = plt.subplots(figsize = (16,4), nrows= 1, ncols= 2)\n",
    "ax[0].hist(sample_means)\n",
    "ax[0].set_title(f'Hist of means from bernoulli sapmples (p = {p})')\n",
    "pdf_1 = sorted(sample_means)\n",
    "ax[1].plot(pdf_1)\n",
    "ax[1].set_title('CDF')"
   ]
  },
  {
   "cell_type": "markdown",
   "metadata": {
    "slideshow": {
     "slide_type": "slide"
    }
   },
   "source": [
    "## Ошибки первого и второго рода"
   ]
  },
  {
   "cell_type": "markdown",
   "metadata": {
    "ExecuteTime": {
     "end_time": "2020-04-11T16:58:32.318293Z",
     "start_time": "2020-04-11T16:58:32.310805Z"
    },
    "slideshow": {
     "slide_type": "slide"
    }
   },
   "source": [
    "<img src=\"errors.png\">"
   ]
  },
  {
   "cell_type": "markdown",
   "metadata": {
    "slideshow": {
     "slide_type": "slide"
    }
   },
   "source": [
    "## Уровень значимости, мощность"
   ]
  },
  {
   "cell_type": "markdown",
   "metadata": {
    "slideshow": {
     "slide_type": "slide"
    }
   },
   "source": [
    "### Уровень значимости"
   ]
  },
  {
   "cell_type": "markdown",
   "metadata": {
    "slideshow": {
     "slide_type": "slide"
    }
   },
   "source": [
    "Давайте вспомним, какие гипотезу мы рассматриваем\n",
    "\n",
    "$$H_{0} : \\mathbb{E}X_{c} = \\mathbb{E}X_{t}$$\n",
    "$$H_{1} : \\mathbb{E}X_{c} \\neq \\mathbb{E}X_{t}$$\n",
    "\n",
    "Переписать это можно как $$H_{0} : \\mathbb{E}X_{c}- \\mathbb{E}X_{t} = 0 $$\n",
    "\n",
    "Тогда вместо того что бы сравнивать распределения выборочных средних группы контроля и группы теста, мы будем рассматривать их разность и проверять, что мат ожидание генеральной совокупности равно 0\n",
    "\n",
    "Заметим, что разность нормальных распределений остается нормальным распределением. Поэтому разность выборочных средних будет распределена нормально"
   ]
  },
  {
   "cell_type": "markdown",
   "metadata": {
    "slideshow": {
     "slide_type": "slide"
    }
   },
   "source": [
    "Нормальное распределение хорошо тем, что теоретически может генерировать значения от минус бесконечности до плюс бесконечности но с большой вероятностью значения буду лежать недалеко от \"среднего\". В нашем случае это среднее - 0.\n",
    "\n",
    "Чтобы иметь возможность отвергнуть нулевую гипотезу нужно \"отдать\" часть возможных, но маловероятных значений альтернативной гипотезе. Обычно делают так: если полученное значение лежит \"достаточно далеко\" от среднего - мы отвергаем нулевую гипотезу\n",
    "\n",
    "Это \"достаточно далеко\" мы можем определять сами. Давайте построим кривую нормального распределения со средним 0 и посмотрим о чем речь"
   ]
  },
  {
   "cell_type": "code",
   "execution_count": 3,
   "metadata": {
    "ExecuteTime": {
     "end_time": "2020-04-13T16:08:53.999186Z",
     "start_time": "2020-04-13T16:08:53.995802Z"
    },
    "slideshow": {
     "slide_type": "slide"
    }
   },
   "outputs": [],
   "source": [
    "var = 0.01\n",
    "rv_norm_0 = stats.norm(0, (var)**(1/2))"
   ]
  },
  {
   "cell_type": "code",
   "execution_count": 4,
   "metadata": {
    "ExecuteTime": {
     "end_time": "2020-04-13T16:08:54.004928Z",
     "start_time": "2020-04-13T16:08:54.001145Z"
    },
    "slideshow": {
     "slide_type": "skip"
    }
   },
   "outputs": [],
   "source": [
    "left = stats.norm.interval(0.95, loc=0, scale=(var)**(1/2))[0]\n",
    "right = stats.norm.interval(0.95, loc=0, scale=(var)**(1/2))[1]"
   ]
  },
  {
   "cell_type": "code",
   "execution_count": 5,
   "metadata": {
    "ExecuteTime": {
     "end_time": "2020-04-13T16:08:54.174661Z",
     "start_time": "2020-04-13T16:08:54.006313Z"
    },
    "hide_input": false,
    "slideshow": {
     "slide_type": "slide"
    }
   },
   "outputs": [
    {
     "name": "stderr",
     "output_type": "stream",
     "text": [
      "No handles with labels found to put in legend.\n"
     ]
    },
    {
     "name": "stdout",
     "output_type": "stream",
     "text": [
      "Закрашенная площадь : 0.05\n"
     ]
    },
    {
     "data": {
      "image/png": "[encoded data removed]",
      "text/plain": [
       "<Figure size 576x288 with 1 Axes>"
      ]
     },
     "metadata": {
      "needs_background": "light"
     },
     "output_type": "display_data"
    }
   ],
   "source": [
    "fig, ax = plt.subplots(figsize = (8,4))\n",
    "x = np.linspace(-0.5, 0.5, 1000)\n",
    "pdf = rv_norm_0.pdf(x)\n",
    "ax.plot(x, pdf)\n",
    "\n",
    "ax.fill_between(x, 0, pdf, facecolor='red', alpha=0.5,  where=(x > right))\n",
    "ax.fill_between(x, 0, pdf, facecolor='red', alpha=0.5,  where=(x < left))\n",
    "ax.axvline(right, color = 'black', ls = '--', lw = 1)\n",
    "ax.axvline(left, color = 'black', ls = '--', lw = 1)\n",
    "ax.axvline(0, color = 'gray', ls = '--', lw = 1)\n",
    "ax.legend()\n",
    "\n",
    "print(f'Закрашенная площадь : {round(1-rv_norm_0.cdf(right)+rv_norm_0.cdf(left),2)}')"
   ]
  },
  {
   "cell_type": "markdown",
   "metadata": {
    "slideshow": {
     "slide_type": "slide"
    }
   },
   "source": [
    "Мы говорим, что вероятность попасть в закрашенную область очень мала, и поэтому значение, которое попало в эту область для нас не принадлежит этому распределеню. \n",
    "\n",
    "Такая вероятность называется - **уровень значимости** или **вероятность ошибки первого рода** и обычно обозначается буквой $\\alpha$\n"
   ]
  },
  {
   "cell_type": "markdown",
   "metadata": {
    "slideshow": {
     "slide_type": "fragment"
    }
   },
   "source": [
    "Самые распространенные $\\alpha$:\n",
    "* $\\alpha= 0.05 \\ \\ (5\\%)$\n",
    "* $\\alpha= 0.01 \\ \\  (1\\%)$\n",
    "* $\\alpha= 0.1 \\ \\ (10 \\%)$"
   ]
  },
  {
   "cell_type": "markdown",
   "metadata": {
    "slideshow": {
     "slide_type": "slide"
    }
   },
   "source": [
    "###  Мощность"
   ]
  },
  {
   "cell_type": "markdown",
   "metadata": {
    "slideshow": {
     "slide_type": "slide"
    }
   },
   "source": [
    "**Ошибка второго рода** - это когда мы не отвергаем нулевую гипотезу, когда верна альтернативная"
   ]
  },
  {
   "cell_type": "markdown",
   "metadata": {
    "slideshow": {
     "slide_type": "fragment"
    }
   },
   "source": [
    "Вероятность совершить ошибку первого рода мы уже определили как уровень значимости ($\\alpha$). Но ошибку второго рода игнорировать нельзя. Но мы редко пользуемся таким понятием как вероятность ошибки второго рода, чаще всего мы использаем понятие **мощность**."
   ]
  },
  {
   "cell_type": "markdown",
   "metadata": {
    "slideshow": {
     "slide_type": "fragment"
    }
   },
   "source": [
    "Мощность обозначается чаще всего буквой $P$ и равна она 1 минус вероятность ошибки второго рода:\n",
    "$$P = 1 - \\alpha_{II}$$\n",
    "\n",
    "\n",
    "То есть это вероятность отвергнуть нулевую гипотезу, когда верна альтернативная.\n"
   ]
  },
  {
   "cell_type": "code",
   "execution_count": 6,
   "metadata": {
    "ExecuteTime": {
     "end_time": "2020-04-13T16:08:54.179978Z",
     "start_time": "2020-04-13T16:08:54.176413Z"
    },
    "slideshow": {
     "slide_type": "slide"
    }
   },
   "outputs": [],
   "source": [
    "rv_norm_delta = stats.norm(0.1, (var)**(1/2))"
   ]
  },
  {
   "cell_type": "code",
   "execution_count": 7,
   "metadata": {
    "ExecuteTime": {
     "end_time": "2020-04-13T16:08:54.370901Z",
     "start_time": "2020-04-13T16:08:54.182332Z"
    },
    "hide_input": false,
    "slideshow": {
     "slide_type": "slide"
    }
   },
   "outputs": [
    {
     "data": {
      "text/plain": [
       "<matplotlib.legend.Legend at 0x1a1ed6c490>"
      ]
     },
     "execution_count": 7,
     "metadata": {},
     "output_type": "execute_result"
    },
    {
     "data": {
      "image/png": "[encoded data removed]",
      "text/plain": [
       "<Figure size 720x360 with 1 Axes>"
      ]
     },
     "metadata": {
      "needs_background": "light"
     },
     "output_type": "display_data"
    }
   ],
   "source": [
    "fig, ax = plt.subplots(figsize = (10,5))\n",
    "x = np.linspace(-0.5, 0.5, 1000)\n",
    "pdf = rv_norm_0.pdf(x)\n",
    "pdf_delta = rv_norm_delta.pdf(x)\n",
    "ax.plot(x, pdf, label = 'H_0')\n",
    "ax.plot(x, pdf_delta, label = 'H_1')\n",
    "ax.fill_between(x, 0, pdf, facecolor='yellow', alpha=0.5,  where=((x < right) & (x> left)))\n",
    "ax.axvline(right, color = 'black', ls = '--', lw = 1)\n",
    "ax.axvline(left, color = 'black', ls = '--', lw = 1)\n",
    "ax.axvline(0, color = 'gray', ls = '--', lw = 1)\n",
    "ax.axvline(0.1, color = 'gray', ls = '--', lw = 1)\n",
    "ax.legend()"
   ]
  },
  {
   "cell_type": "code",
   "execution_count": 8,
   "metadata": {
    "ExecuteTime": {
     "end_time": "2020-04-13T16:08:54.558849Z",
     "start_time": "2020-04-13T16:08:54.374677Z"
    },
    "hide_input": false,
    "slideshow": {
     "slide_type": "slide"
    }
   },
   "outputs": [
    {
     "data": {
      "text/plain": [
       "<matplotlib.legend.Legend at 0x1a1eed7ad0>"
      ]
     },
     "execution_count": 8,
     "metadata": {},
     "output_type": "execute_result"
    },
    {
     "data": {
      "image/png": "[encoded data removed]",
      "text/plain": [
       "<Figure size 720x360 with 1 Axes>"
      ]
     },
     "metadata": {
      "needs_background": "light"
     },
     "output_type": "display_data"
    }
   ],
   "source": [
    "fig, ax = plt.subplots(figsize = (10,5))\n",
    "x = np.linspace(-0.5, 0.5, 1000)\n",
    "pdf = rv_norm_0.pdf(x)\n",
    "pdf_delta = rv_norm_delta.pdf(x)\n",
    "ax.plot(x, pdf, label = 'X_A')\n",
    "ax.plot(x, pdf_delta, label = 'X_B')\n",
    "ax.fill_between(x, 0, pdf, facecolor='yellow', alpha=0.5,  where=((x < right) & (x> left)))\n",
    "ax.fill_between(x, 0, pdf_delta, facecolor='green', alpha=0.5,  where=(x > right) )\n",
    "ax.axvline(right, color = 'black', ls = '--', lw = 1)\n",
    "ax.axvline(left, color = 'black', ls = '--', lw = 1)\n",
    "ax.axvline(0, color = 'gray', ls = '--', lw = 1)\n",
    "ax.axvline(0.1, color = 'gray', ls = '--', lw = 1)\n",
    "ax.legend()"
   ]
  },
  {
   "cell_type": "markdown",
   "metadata": {
    "slideshow": {
     "slide_type": "slide"
    }
   },
   "source": [
    "Посчитаем площадь части, которая закрашена зеленым"
   ]
  },
  {
   "cell_type": "code",
   "execution_count": 9,
   "metadata": {
    "ExecuteTime": {
     "end_time": "2020-04-13T16:08:54.565450Z",
     "start_time": "2020-04-13T16:08:54.562263Z"
    },
    "slideshow": {
     "slide_type": "fragment"
    }
   },
   "outputs": [
    {
     "name": "stdout",
     "output_type": "stream",
     "text": [
      "Мощность при дисперссии = 0.01: 0.1685366707102025\n"
     ]
    }
   ],
   "source": [
    "P = 1-rv_norm_delta.cdf(right)\n",
    "print(f'Мощность при дисперссии = {var}: {P}')"
   ]
  },
  {
   "cell_type": "markdown",
   "metadata": {
    "slideshow": {
     "slide_type": "slide"
    }
   },
   "source": [
    "Закрашенная область представляет собой вероятность принять альтернативную гипотезу при условии, что она верна или **мощность теста**.\n",
    "\n",
    "* Мы заранее можем сказать, какую мощность теста мы ждем. \n",
    "* Мощность сильно зависит от дисперсии выборок."
   ]
  },
  {
   "cell_type": "code",
   "execution_count": 10,
   "metadata": {
    "ExecuteTime": {
     "end_time": "2020-04-13T16:08:54.744547Z",
     "start_time": "2020-04-13T16:08:54.567051Z"
    },
    "hide_input": false,
    "slideshow": {
     "slide_type": "slide"
    }
   },
   "outputs": [
    {
     "name": "stdout",
     "output_type": "stream",
     "text": [
      "Мощность при дисперссии = 0.001: 0.8853789898000417\n"
     ]
    },
    {
     "data": {
      "image/png": "[encoded data removed]",
      "text/plain": [
       "<Figure size 720x360 with 1 Axes>"
      ]
     },
     "metadata": {
      "needs_background": "light"
     },
     "output_type": "display_data"
    }
   ],
   "source": [
    "var = 0.001\n",
    "rv_norm_0 = stats.norm(0, (var)**(1/2))\n",
    "left = stats.norm.interval(0.95, loc=0, scale=(var)**(1/2))[0]\n",
    "right = stats.norm.interval(0.95, loc=0, scale=(var)**(1/2))[1]\n",
    "rv_norm_delta = stats.norm(0.1, (var)**(1/2))\n",
    "fig, ax = plt.subplots(figsize = (10,5))\n",
    "x = np.linspace(-0.2, 0.2, 1000)\n",
    "pdf = rv_norm_0.pdf(x)\n",
    "pdf_delta = rv_norm_delta.pdf(x)\n",
    "ax.plot(x, pdf, label = 'X_A')\n",
    "ax.plot(x, pdf_delta, label = 'X_B')\n",
    "ax.fill_between(x, 0, pdf, facecolor='yellow', alpha=0.5,  where=((x < right) & (x> left)))\n",
    "ax.fill_between(x, 0, pdf_delta, facecolor='green', alpha=0.5,  where=(x > right) )\n",
    "ax.axvline(right, color = 'black', ls = '--', lw = 1)\n",
    "ax.legend()\n",
    "\n",
    "P = 1-rv_norm_delta.cdf(right)\n",
    "print(f'Мощность при дисперссии = {var}: {P}')"
   ]
  },
  {
   "cell_type": "markdown",
   "metadata": {
    "slideshow": {
     "slide_type": "slide"
    }
   },
   "source": [
    "По умолчанию мощность выбирают 80%: в 1 из 5 случаев мы не найдем разницы, если она, на самом деле, существует. Нам этого достаточно "
   ]
  },
  {
   "cell_type": "markdown",
   "metadata": {
    "slideshow": {
     "slide_type": "slide"
    }
   },
   "source": [
    "## p-value и проверка гипотез на примере Z - критерия разностей долей "
   ]
  },
  {
   "cell_type": "markdown",
   "metadata": {
    "slideshow": {
     "slide_type": "slide"
    }
   },
   "source": [
    "### Z-критерий"
   ]
  },
  {
   "cell_type": "markdown",
   "metadata": {
    "slideshow": {
     "slide_type": "slide"
    }
   },
   "source": [
    "${\\displaystyle X_{A}^{n_1} \\sim  Ber(p_c) } $, ${\\displaystyle X_{B}^{n_2} \\sim  Ber(p_t) }$ - две независимые выборки размера $n_c$ и $n_t$\n",
    "\n",
    "\n",
    "* Нулевая гипотеза ${\\displaystyle H_0: p_c = p_t}$\n",
    "* Альтернативная гипотеза ${\\displaystyle H_0: p_c \\neq p_t}$\n",
    "\n",
    "$\\displaystyle \\hat{p}_c = \\overline{X}_{c} , \\hat{p}_t = \\overline{X}_{t} $\n",
    "\n",
    "\n",
    "$ {\\displaystyle Z-статистика : Z(X_{c}^{n_c}, X_{t}^{n_t}) = \\frac{\\hat{p}_c - \\hat{p}_c}{\\sqrt{P(1-P)(\\frac{1}{n_c}+ \\frac{1}{n_t})}}}$, где $\\displaystyle{P=\\frac{\\hat{p}_cn_c+\\hat{p}_t n_t}{n_c+n_t}}$\n",
    "\n",
    "При  $H_0$: $\\displaystyle { Z(X_{c}^{n_c}, X_{t}^{n_t}) \\sim N(0,1)}$"
   ]
  },
  {
   "cell_type": "code",
   "execution_count": 11,
   "metadata": {
    "ExecuteTime": {
     "end_time": "2020-04-13T16:08:54.752916Z",
     "start_time": "2020-04-13T16:08:54.746028Z"
    },
    "slideshow": {
     "slide_type": "slide"
    }
   },
   "outputs": [
    {
     "name": "stdout",
     "output_type": "stream",
     "text": [
      "z_score : -0.175\n"
     ]
    }
   ],
   "source": [
    "p_c = 0.1\n",
    "p_t = 0.101\n",
    "n_c = 1000\n",
    "n_t = 1050\n",
    "rv_bernoulli_c = stats.bernoulli(p = p_c)\n",
    "rv_bernoulli_t = stats.bernoulli(p = p_t)\n",
    "X_c = rv_bernoulli_c.rvs(n_c)\n",
    "X_t = rv_bernoulli_t.rvs(n_t)\n",
    "p_c_x = np.sum(X_c)/n_c\n",
    "p_t_x = np.sum(X_t)/n_t\n",
    "\n",
    "P = (p_c_x*n_c+p_t_x*n_t)/(n_c+n_t)\n",
    "\n",
    "Z = (p_c_x-p_t_x)/(P*(1-P)*(1/n_c+1/n_t))**(1/2)\n",
    "print(f'z_score : {np.round(Z, 3)}')"
   ]
  },
  {
   "cell_type": "markdown",
   "metadata": {
    "slideshow": {
     "slide_type": "slide"
    }
   },
   "source": [
    "### P-value"
   ]
  },
  {
   "cell_type": "code",
   "execution_count": 12,
   "metadata": {
    "ExecuteTime": {
     "end_time": "2020-04-13T16:08:54.942981Z",
     "start_time": "2020-04-13T16:08:54.754780Z"
    },
    "slideshow": {
     "slide_type": "slide"
    }
   },
   "outputs": [
    {
     "data": {
      "text/plain": [
       "<matplotlib.legend.Legend at 0x1a1f02e950>"
      ]
     },
     "execution_count": 12,
     "metadata": {},
     "output_type": "execute_result"
    },
    {
     "data": {
      "image/png": "[encoded data removed]",
      "text/plain": [
       "<Figure size 720x360 with 1 Axes>"
      ]
     },
     "metadata": {
      "needs_background": "light"
     },
     "output_type": "display_data"
    }
   ],
   "source": [
    "rv_norm_standart = stats.norm(0, 1)\n",
    "fig, ax = plt.subplots(figsize = (10,5))\n",
    "x = np.linspace(-4, 4, 1000)\n",
    "pdf = rv_norm_standart.pdf(x)\n",
    "ax.plot(x, pdf, label = 'Z-stat')\n",
    "ax.vlines(Z, 0, rv_norm_standart.pdf(Z), ls = '--', label = 'Z-score')\n",
    "if Z>0:\n",
    "    ax.fill_between(x, 0, pdf, facecolor='blue', alpha=0.1,  where=(x > Z) )\n",
    "else:\n",
    "    ax.fill_between(x, 0, pdf, facecolor='blue', alpha=0.1,  where=(x < Z) )\n",
    "ax.legend()"
   ]
  },
  {
   "cell_type": "markdown",
   "metadata": {
    "slideshow": {
     "slide_type": "slide"
    }
   },
   "source": [
    "$\\displaystyle{ \\textbf {p-value}}$ - вероятность получить значение такое же или еще более экстремальные, при условии равенства нулевой гипотезы.\n",
    "\n",
    "\n",
    "<br>\n",
    "<br>\n",
    "<br>\n",
    "\n",
    "\n",
    "Если  $p-value < \\alpha$, то мы говорим, что изменения **статистически значимы** и отклоняем нулевую гипотезу"
   ]
  },
  {
   "cell_type": "code",
   "execution_count": 13,
   "metadata": {
    "ExecuteTime": {
     "end_time": "2020-04-13T16:08:54.948287Z",
     "start_time": "2020-04-13T16:08:54.944884Z"
    },
    "slideshow": {
     "slide_type": "skip"
    }
   },
   "outputs": [],
   "source": [
    "def check_significant(Z, alpha):\n",
    "    if Z < 0:\n",
    "        p_value = rv_norm_standart.cdf(Z)\n",
    "    else:\n",
    "        p_value = 1-rv_norm_standart.cdf(Z)\n",
    "        \n",
    "    print(f'p-value: {round(p_value, 2)}', f'alpha: {alpha}')\n",
    "    if p_value < alpha:\n",
    "        print('significant')\n",
    "    else:\n",
    "        print('not significant')"
   ]
  },
  {
   "cell_type": "markdown",
   "metadata": {
    "slideshow": {
     "slide_type": "slide"
    }
   },
   "source": [
    "Что бы посчитать точку, значения больше которой дадут в сумме площадь под кривой равной уровню значимости, нам надо высчитать посчитать Zα/2 и Z 1-alpha/2 - альфа квантили нормального распредления, где альфа - уровень значимости = 0.05\n",
    "Давайте нарисуем все площади и проверим значима ли разница"
   ]
  },
  {
   "cell_type": "code",
   "execution_count": 14,
   "metadata": {
    "ExecuteTime": {
     "end_time": "2020-04-13T16:08:54.953865Z",
     "start_time": "2020-04-13T16:08:54.950152Z"
    },
    "slideshow": {
     "slide_type": "slide"
    }
   },
   "outputs": [
    {
     "name": "stdout",
     "output_type": "stream",
     "text": [
      "|Z_alpha/2| = 1.96\n"
     ]
    }
   ],
   "source": [
    "alpha = 0.05\n",
    "z_left = rv_norm_standart.ppf(alpha/2)\n",
    "z_right = rv_norm_standart.ppf(1-alpha/2)\n",
    "\n",
    "print(f'|Z_alpha/2| = {round(abs(z_left),2)}')"
   ]
  },
  {
   "cell_type": "code",
   "execution_count": 15,
   "metadata": {
    "ExecuteTime": {
     "end_time": "2020-04-13T16:08:55.131061Z",
     "start_time": "2020-04-13T16:08:54.955411Z"
    },
    "hide_input": false,
    "slideshow": {
     "slide_type": "slide"
    }
   },
   "outputs": [
    {
     "name": "stdout",
     "output_type": "stream",
     "text": [
      "p-value: 0.43 alpha: 0.05\n",
      "not significant\n"
     ]
    },
    {
     "data": {
      "image/png": "[encoded data removed]",
      "text/plain": [
       "<Figure size 720x360 with 1 Axes>"
      ]
     },
     "metadata": {
      "needs_background": "light"
     },
     "output_type": "display_data"
    }
   ],
   "source": [
    "fig, ax = plt.subplots(figsize = (10,5))\n",
    "x = np.linspace(-4, 4, 1000)\n",
    "pdf = rv_norm_standart.pdf(x)\n",
    "ax.plot(x, pdf, label = 'Z-stat')\n",
    "if Z <0:\n",
    "    ax.fill_between(x, 0, pdf, facecolor='blue', alpha=0.5,  where=(x < Z) )\n",
    "else:\n",
    "    ax.fill_between(x, 0, pdf, facecolor='blue', alpha=0.5,  where=(x > Z) )\n",
    "\n",
    "ax.fill_between(x, 0, pdf, facecolor='red', alpha=0.5,  where=(x > z_right) )\n",
    "ax.fill_between(x, 0, pdf, facecolor='red', alpha=0.5,  where=(x < z_left) )\n",
    "ax.legend()\n",
    "\n",
    "check_significant(Z, alpha)"
   ]
  },
  {
   "cell_type": "markdown",
   "metadata": {
    "slideshow": {
     "slide_type": "notes"
    }
   },
   "source": [
    "Видим что площадь синяя площадь больше чем красная, значит не отклоняем нулевую гипотезу. Давайте посмотрим другой вариант, где мы отклоним нулевую гипотезу с большой вероятность."
   ]
  },
  {
   "cell_type": "code",
   "execution_count": 16,
   "metadata": {
    "ExecuteTime": {
     "end_time": "2020-04-13T16:08:55.139527Z",
     "start_time": "2020-04-13T16:08:55.132724Z"
    },
    "slideshow": {
     "slide_type": "slide"
    }
   },
   "outputs": [
    {
     "name": "stdout",
     "output_type": "stream",
     "text": [
      "p_c_x : 0.108\n",
      "p_t_x : 0.11714285714285715\n",
      "z_score : 0.654\n"
     ]
    }
   ],
   "source": [
    "p_c = 0.1\n",
    "p_t = 0.126\n",
    "n_c = 1000\n",
    "n_t = 1050\n",
    "rv_bernoulli_c = stats.bernoulli(p = p_c)\n",
    "rv_bernoulli_t = stats.bernoulli(p = p_t)\n",
    "X_c = rv_bernoulli_c.rvs(n_c)\n",
    "X_t = rv_bernoulli_t.rvs(n_t)\n",
    "p_c_x = np.sum(X_c)/n_c\n",
    "p_t_x = np.sum(X_t)/n_t\n",
    "\n",
    "P = (p_c_x*n_c+p_t_x*n_t)/(n_c+n_t)\n",
    "\n",
    "Z = (p_t_x-p_c_x)/(P*(1-P)*(1/n_c+1/n_t))**(1/2)\n",
    "print(f'p_c_x : {p_c_x}')\n",
    "print(f'p_t_x : {p_t_x}')\n",
    "print(f'z_score : {np.round(Z, 3)}')"
   ]
  },
  {
   "cell_type": "code",
   "execution_count": 17,
   "metadata": {
    "ExecuteTime": {
     "end_time": "2020-04-13T16:08:55.325711Z",
     "start_time": "2020-04-13T16:08:55.141355Z"
    },
    "hide_input": false,
    "slideshow": {
     "slide_type": "slide"
    }
   },
   "outputs": [
    {
     "name": "stdout",
     "output_type": "stream",
     "text": [
      "p_c_x : 0.108\n",
      "p_t_x : 0.11714285714285715\n",
      "p-value: 0.26 alpha: 0.05\n",
      "not significant\n"
     ]
    },
    {
     "data": {
      "image/png": "[encoded data removed]",
      "text/plain": [
       "<Figure size 720x360 with 1 Axes>"
      ]
     },
     "metadata": {
      "needs_background": "light"
     },
     "output_type": "display_data"
    }
   ],
   "source": [
    "alpha = 0.05\n",
    "z_left = rv_norm_standart.ppf(alpha/2)\n",
    "z_right = rv_norm_standart.ppf(1-alpha/2)\n",
    "\n",
    "fig, ax = plt.subplots(figsize = (10,5))\n",
    "x = np.linspace(-4, 4, 1000)\n",
    "pdf = rv_norm_standart.pdf(x)\n",
    "ax.plot(x, pdf, label = 'Z-stat')\n",
    "ax.vlines(Z, 0, rv_norm_standart.pdf(Z), ls = '--', label = 'Z-score')\n",
    "if Z <0:\n",
    "    ax.fill_between(x, 0, pdf, facecolor='blue', alpha=0.5,  where=(x < Z) )\n",
    "else:\n",
    "    ax.fill_between(x, 0, pdf, facecolor='blue', alpha=0.5,  where=(x > Z) )\n",
    "ax.fill_between(x, 0, pdf, facecolor='red', alpha=0.5,  where=(x > z_right) )\n",
    "ax.fill_between(x, 0, pdf, facecolor='red', alpha=0.5,  where=(x < z_left) )\n",
    "ax.legend()\n",
    "\n",
    "print(f'p_c_x : {p_c_x}')\n",
    "print(f'p_t_x : {p_t_x}')\n",
    "\n",
    "check_significant(Z, alpha)"
   ]
  },
  {
   "cell_type": "code",
   "execution_count": 18,
   "metadata": {
    "ExecuteTime": {
     "end_time": "2020-04-13T16:08:55.496974Z",
     "start_time": "2020-04-13T16:08:55.327664Z"
    },
    "hide_input": false,
    "slideshow": {
     "slide_type": "slide"
    }
   },
   "outputs": [
    {
     "name": "stdout",
     "output_type": "stream",
     "text": [
      "Мощность при дисперссии = 0.014147: 9.0%\n"
     ]
    },
    {
     "data": {
      "image/png": "[encoded data removed]",
      "text/plain": [
       "<Figure size 720x360 with 1 Axes>"
      ]
     },
     "metadata": {
      "needs_background": "light"
     },
     "output_type": "display_data"
    }
   ],
   "source": [
    "sigma  = round(pow(p_t*(1-p_t)/n_c+p_c*(1-p_c)/n_c,0.5),6)\n",
    "rv_norm = stats.norm(0, sigma)\n",
    "rv_norm_delta = stats.norm(p_t_x-p_c_x, sigma)\n",
    "\n",
    "alpha = 0.05\n",
    "left_alpha = rv_norm.ppf(alpha/2)\n",
    "right_alpha = rv_norm.ppf(1-alpha/2)\n",
    "\n",
    "fig, ax = plt.subplots(figsize = (10,5))\n",
    "x = np.linspace(-0.09, 0.09, 1000)\n",
    "pdf = rv_norm.pdf(x)\n",
    "pdf_delta = rv_norm_delta.pdf(x)\n",
    "ax.plot(x, pdf, label = 'Z-stat')\n",
    "ax.plot(x, pdf_delta, label = 'Z-stat_delta')\n",
    "ax.vlines(right_alpha, 0, rv_norm_delta.pdf(right_alpha), ls = '--', label = 'Z-score')\n",
    "\n",
    "ax.fill_between(x, 0, pdf_delta, facecolor='green', alpha=0.5,  where=(x > right_alpha) )\n",
    "ax.legend()\n",
    "\n",
    "\n",
    "P = 1-rv_norm_delta.cdf(right_alpha)\n",
    "print(f'Мощность при дисперссии = {sigma}: {round(P,2)*100}%')"
   ]
  },
  {
   "cell_type": "markdown",
   "metadata": {
    "slideshow": {
     "slide_type": "notes"
    }
   },
   "source": [
    "Мощность мала.  в (1-P)% случаев мы не найдем разницы, если она, на самом деле, существует. Увеличим размер выборки, чтобы увеличить мощность "
   ]
  },
  {
   "cell_type": "code",
   "execution_count": 19,
   "metadata": {
    "ExecuteTime": {
     "end_time": "2020-04-13T16:08:55.506484Z",
     "start_time": "2020-04-13T16:08:55.499157Z"
    },
    "hide_input": false,
    "slideshow": {
     "slide_type": "slide"
    }
   },
   "outputs": [
    {
     "name": "stdout",
     "output_type": "stream",
     "text": [
      "p_c_x : 0.098\n",
      "p_B_x : 0.1270967741935484\n",
      "z_score : -3.592\n"
     ]
    }
   ],
   "source": [
    "p_c = 0.1\n",
    "p_t = 0.126\n",
    "n_c = 3000\n",
    "n_t = 3100\n",
    "rv_bernoulli_c = stats.bernoulli(p = p_c)\n",
    "rv_bernoulli_t = stats.bernoulli(p = p_t)\n",
    "X_c = rv_bernoulli_c.rvs(n_c)\n",
    "X_t = rv_bernoulli_t.rvs(n_t)\n",
    "p_c_x = np.sum(X_c)/n_c\n",
    "p_t_x = np.sum(X_t)/n_t\n",
    "\n",
    "P = (p_c_x*n_c+p_t_x*n_t)/(n_c+n_t)\n",
    "\n",
    "Z = (p_c_x-p_t_x)/(P*(1-P)*(1/n_c+1/n_t))**(1/2)\n",
    "print(f'p_c_x : {p_c_x}')\n",
    "print(f'p_B_x : {p_t_x}')\n",
    "print(f'z_score : {np.round(Z, 3)}')"
   ]
  },
  {
   "cell_type": "code",
   "execution_count": 20,
   "metadata": {
    "ExecuteTime": {
     "end_time": "2020-04-13T16:08:55.747037Z",
     "start_time": "2020-04-13T16:08:55.508428Z"
    },
    "hide_input": false,
    "slideshow": {
     "slide_type": "slide"
    }
   },
   "outputs": [
    {
     "name": "stdout",
     "output_type": "stream",
     "text": [
      "Мощность при дисперссии = 0.008167: 95.0%\n"
     ]
    },
    {
     "data": {
      "image/png": "[encoded data removed]",
      "text/plain": [
       "<Figure size 720x360 with 1 Axes>"
      ]
     },
     "metadata": {
      "needs_background": "light"
     },
     "output_type": "display_data"
    }
   ],
   "source": [
    "sigma  = round(pow(p_t*(1-p_t)/n_c+p_c*(1-p_c)/n_c,0.5),6)\n",
    "rv_norm = stats.norm(0, sigma)\n",
    "rv_norm_delta = stats.norm(p_t_x-p_c_x, sigma)\n",
    "\n",
    "alpha = 0.05\n",
    "left_alpha = rv_norm.ppf(alpha/2)\n",
    "right_alpha = rv_norm.ppf(1-alpha/2)\n",
    "\n",
    "fig, ax = plt.subplots(figsize = (10,5))\n",
    "x = np.linspace(-0.09, 0.09, 1000)\n",
    "pdf = rv_norm.pdf(x)\n",
    "pdf_delta = rv_norm_delta.pdf(x)\n",
    "ax.plot(x, pdf, label = 'Z-stat')\n",
    "ax.plot(x, pdf_delta, label = 'Z-stat_delta')\n",
    "ax.vlines(right_alpha, 0, rv_norm_delta.pdf(right_alpha), ls = '--', label = 'Z-score')\n",
    "\n",
    "ax.fill_between(x, 0, pdf_delta, facecolor='green', alpha=0.5,  where=(x > right_alpha) )\n",
    "ax.legend()\n",
    "\n",
    "\n",
    "P = 1-rv_norm_delta.cdf(right_alpha)\n",
    "print(f'Мощность при дисперссии = {sigma}: {round(P,2)*100}%')"
   ]
  },
  {
   "cell_type": "markdown",
   "metadata": {
    "slideshow": {
     "slide_type": "slide"
    }
   },
   "source": [
    "## Необходимый размер выборки"
   ]
  },
  {
   "cell_type": "markdown",
   "metadata": {
    "slideshow": {
     "slide_type": "slide"
    }
   },
   "source": [
    "При заданном уровне мощности, уровне значимости, конверсии сейчас, предполагемом абсолютном приросте конверсии, можем вычислить необходимый размер выборок:\n",
    "\n",
    "\n",
    "$$\\displaystyle{n = \\frac{\\overline{p}(1-\\overline{p})(z_{\\alpha/2} + z_{\\beta})^{2}}{(m)^2}},$$\n",
    "где \n",
    "* $\\displaystyle{z_{\\beta}}$ - квантиль нормального стандартного распреляния порядка равному мощности\n",
    "* $\\displaystyle{z_{\\alpha/2}}$ - квантиль нормального стандартного распреляния порядка равному уровню значимости пополам\n",
    "* $\\displaystyle{m}$ - ожидаемы прирост\n",
    "* $\\displaystyle{\\overline{p} = p_A+p_A+m}$ - объединенная конверсия группы теста и контроля"
   ]
  },
  {
   "cell_type": "code",
   "execution_count": 21,
   "metadata": {
    "ExecuteTime": {
     "end_time": "2020-04-13T16:08:55.755557Z",
     "start_time": "2020-04-13T16:08:55.749200Z"
    },
    "slideshow": {
     "slide_type": "slide"
    }
   },
   "outputs": [
    {
     "name": "stdout",
     "output_type": "stream",
     "text": [
      "Необходимый размер выборки: 3116.0\n"
     ]
    }
   ],
   "source": [
    "alpha = 0.05\n",
    "beta = 0.8\n",
    "\n",
    "\n",
    "rv_norm = stats.norm(0, 1)\n",
    "\n",
    "z_alpha = rv_norm.ppf(1-alpha/2)\n",
    "z_beta = rv_norm.ppf(1-0.2)\n",
    "m = 0.02\n",
    "\n",
    "pooled_prob = (p_c_x+p_c_x+0.2)/2\n",
    "\n",
    "n =pooled_prob*(1-pooled_prob)*(z_alpha+z_beta)**2/(m)**2\n",
    "print(f'Необходимый размер выборки: {round(n,0)}')"
   ]
  },
  {
   "cell_type": "markdown",
   "metadata": {
    "slideshow": {
     "slide_type": "slide"
    }
   },
   "source": [
    "### Проблема подглядывания"
   ]
  },
  {
   "cell_type": "markdown",
   "metadata": {
    "slideshow": {
     "slide_type": "notes"
    }
   },
   "source": [
    "Сейчас я хочу вам показать, почему так важно заранее выбрать необходимый размер выборки"
   ]
  },
  {
   "cell_type": "markdown",
   "metadata": {
    "slideshow": {
     "slide_type": "slide"
    }
   },
   "source": [
    "Ошибки которые вы можете совершить при проведении АБ теста:\n",
    "* Выключить его слишком рано\n",
    "* Выключить сликом поздно"
   ]
  },
  {
   "cell_type": "markdown",
   "metadata": {
    "slideshow": {
     "slide_type": "fragment"
    }
   },
   "source": [
    "<img src=\"pvalue.png\" width = 1000 align = \"top\">"
   ]
  },
  {
   "cell_type": "markdown",
   "metadata": {
    "slideshow": {
     "slide_type": "notes"
    }
   },
   "source": [
    "Подглядывать можно, и даже иногда полезно. Но выключать из-за подглядывания -большая ошибка"
   ]
  },
  {
   "cell_type": "markdown",
   "metadata": {
    "slideshow": {
     "slide_type": "slide"
    }
   },
   "source": [
    "# Полезные инструменты для анализа АБ тестов в python"
   ]
  },
  {
   "cell_type": "markdown",
   "metadata": {
    "slideshow": {
     "slide_type": "slide"
    }
   },
   "source": [
    "##  ab_calc"
   ]
  },
  {
   "cell_type": "code",
   "execution_count": 22,
   "metadata": {
    "ExecuteTime": {
     "end_time": "2020-04-13T16:08:55.762225Z",
     "start_time": "2020-04-13T16:08:55.757056Z"
    },
    "slideshow": {
     "slide_type": "slide"
    }
   },
   "outputs": [],
   "source": [
    "import ab_calc"
   ]
  },
  {
   "cell_type": "markdown",
   "metadata": {
    "ExecuteTime": {
     "end_time": "2020-04-12T08:10:58.482573Z",
     "start_time": "2020-04-12T08:10:58.449055Z"
    },
    "slideshow": {
     "slide_type": "fragment"
    }
   },
   "source": [
    "<font size=\"8\" >Документация</font>\n",
    "\n",
    "\n",
    "<img src=\"abcalc1.png\" align = 'left' width = '600'>\n",
    "<img src=\"abcalc22.png\" align = 'left' width = '600'>"
   ]
  },
  {
   "cell_type": "code",
   "execution_count": 23,
   "metadata": {
    "ExecuteTime": {
     "end_time": "2020-04-13T16:08:55.772917Z",
     "start_time": "2020-04-13T16:08:55.766424Z"
    },
    "slideshow": {
     "slide_type": "slide"
    }
   },
   "outputs": [
    {
     "name": "stdout",
     "output_type": "stream",
     "text": [
      "z_score : -4.606\n"
     ]
    }
   ],
   "source": [
    "p_c = 0.1\n",
    "p_t = 0.126\n",
    "n_c = 3000\n",
    "n_t = 3100\n",
    "rv_bernoulli_c = stats.bernoulli(p = p_c)\n",
    "rv_bernoulli_t = stats.bernoulli(p = p_t)\n",
    "X_c = rv_bernoulli_c.rvs(n_c)\n",
    "X_t = rv_bernoulli_t.rvs(n_t)\n",
    "p_c_x = np.sum(X_c)/n_c\n",
    "p_t_x = np.sum(X_t)/n_t\n",
    "\n",
    "P = (p_c_x*n_c+p_t_x*n_t)/(n_c+n_t)\n",
    "\n",
    "Z = (p_c_x-p_t_x)/(P*(1-P)*(1/n_c+1/n_t))**(1/2)\n",
    "print(f'z_score : {np.round(Z, 3)}')"
   ]
  },
  {
   "cell_type": "code",
   "execution_count": 24,
   "metadata": {
    "ExecuteTime": {
     "end_time": "2020-04-13T16:08:55.778622Z",
     "start_time": "2020-04-13T16:08:55.774617Z"
    },
    "slideshow": {
     "slide_type": "fragment"
    }
   },
   "outputs": [
    {
     "name": "stdout",
     "output_type": "stream",
     "text": [
      "Advantage: 41.16%\n",
      "Z:  4.63\n",
      "Power: 99%\n",
      "Wait_Multiplier:  0.0\n"
     ]
    }
   ],
   "source": [
    "m_c = sum(X_c)\n",
    "m_t = sum(X_t)\n",
    "ab_calc.pretty_all(m_c, n_c, m_t, n_t)"
   ]
  },
  {
   "cell_type": "code",
   "execution_count": 25,
   "metadata": {
    "ExecuteTime": {
     "end_time": "2020-04-13T16:08:55.940749Z",
     "start_time": "2020-04-13T16:08:55.780620Z"
    },
    "slideshow": {
     "slide_type": "slide"
    }
   },
   "outputs": [
    {
     "data": {
      "text/plain": [
       "<matplotlib.legend.Legend at 0x1a1f075fd0>"
      ]
     },
     "execution_count": 25,
     "metadata": {},
     "output_type": "execute_result"
    },
    {
     "data": {
      "image/png": "[encoded data removed]",
      "text/plain": [
       "<Figure size 720x360 with 1 Axes>"
      ]
     },
     "metadata": {
      "needs_background": "light"
     },
     "output_type": "display_data"
    }
   ],
   "source": [
    "mu = m_c/n_c-m_t/n_t\n",
    "sigma = ab_calc.sigma_pp(m_c, n_c, m_t, n_t)\n",
    "rv_norm_delta = stats.norm(mu, sigma)\n",
    "rv_norm = stats.norm(0, sigma)\n",
    "\n",
    "fig, ax = plt.subplots(figsize = (10,5))\n",
    "x = np.linspace(-0.09, 0.09, 1000)\n",
    "pdf = rv_norm.pdf(x)\n",
    "pdf_delta = rv_norm_delta.pdf(x)\n",
    "ax.plot(x, pdf, label = 'Z-stat')\n",
    "ax.plot(x, pdf_delta, label = 'Z-stat_delta')\n",
    "ax.legend()"
   ]
  },
  {
   "cell_type": "markdown",
   "metadata": {
    "ExecuteTime": {
     "end_time": "2020-04-12T13:03:10.664909Z",
     "start_time": "2020-04-12T13:03:10.661061Z"
    },
    "slideshow": {
     "slide_type": "slide"
    }
   },
   "source": [
    "<font size=\"8\" >Спасибо за внимание и до новых встреч</font>\n",
    "\n",
    "\n",
    "<font size=\"8\" >tlg: @emiliyam</font>"
   ]
  }
 ],
 "metadata": {
  "celltoolbar": "Slideshow",
  "kernelspec": {
   "display_name": "Python 3",
   "language": "python",
   "name": "python3"
  },
  "language_info": {
   "codemirror_mode": {
    "name": "ipython",
    "version": 3
   },
   "file_extension": ".py",
   "mimetype": "text/x-python",
   "name": "python",
   "nbconvert_exporter": "python",
   "pygments_lexer": "ipython3",
   "version": "3.7.4"
  },
  "toc": {
   "base_numbering": 1,
   "nav_menu": {},
   "number_sections": true,
   "sideBar": true,
   "skip_h1_title": false,
   "title_cell": "Table of Contents",
   "title_sidebar": "Contents",
   "toc_cell": false,
   "toc_position": {
    "height": "calc(100% - 180px)",
    "left": "10px",
    "top": "150px",
    "width": "295.764px"
   },
   "toc_section_display": true,
   "toc_window_display": false
  }
 },
 "nbformat": 4,
 "nbformat_minor": 2
}
